{
 "cells": [
  {
   "cell_type": "code",
   "execution_count": 94,
   "id": "1033b0d0-95a7-427a-bb11-d12896f51872",
   "metadata": {},
   "outputs": [
    {
     "name": "stdout",
     "output_type": "stream",
     "text": [
      "X-вектор: [-2.0, -1.0, 0.0, 1.0, 2.0, 3.0, 4.0]\n",
      "Y-вектор: [-8.0, -1.0, 0.0, 1.1, 8.0, 27.0, 64.0]\n",
      "Количество узлов интерполирования: 7\n",
      "      x   Δ^0   Δ^1   Δ^2       Δ^3       Δ^4       Δ^5       Δ^6\n",
      "X1 -2.0  -8.0   7.0 -3.00  1.016667 -0.016667  0.008333 -0.002778\n",
      "X2 -1.0  -1.0   1.0  0.05  0.950000  0.025000 -0.008333  0.000000\n",
      "X3  0.0   0.0   1.1  2.90  1.050000 -0.016667  0.000000  0.000000\n",
      "X4  1.0   1.1   6.9  6.05  0.983333  0.000000  0.000000  0.000000\n",
      "X5  2.0   8.0  19.0  9.00  0.000000  0.000000  0.000000  0.000000\n",
      "X6  3.0  27.0  37.0  0.00  0.000000  0.000000  0.000000  0.000000\n",
      "X7  4.0  64.0   0.0  0.00  0.000000  0.000000  0.000000  0.000000\n",
      "IER = 0 - ошибка обнаружена\n",
      "Номер строки с ошибкой: 4\n",
      "YY = [-8.0, -1.0, 0.0, 1.0, 8.0, 27.0, 64.0]\n",
      "коэффициенты многочлена: [0.0, 0.0, 0.0, 1.0]\n",
      "многочлен: 0.0 + 0.0x + 0.0x² + 1.0x³\n"
     ]
    }
   ],
   "source": [
    "%run CHM1.ipynb\n",
    "IER = -1\n",
    "file_path = 'untitled1.txt'\n",
    "X, Y, n = read_data_from_file(file_path)\n",
    "print(\"X-вектор:\", X)\n",
    "print(\"Y-вектор:\", Y)\n",
    "print(\"Количество узлов интерполирования:\", n)\n",
    "if not is_enough_dots(X):\n",
    "    print(f'IER = 2 - ошибку обнаружить нельзя (мало точек)')\n",
    "else:\n",
    "    if not is_ascending_order(X):\n",
    "        print(f'IER = 3 - нарушен порядок возрастания аргумента в векторе X.')\n",
    "    else:\n",
    "        table = divided_differences(X, Y)\n",
    "        show_divided_differences(X, table)\n",
    "        if is_error_in_table(table):\n",
    "            print(f'IER = 0 - ошибка обнаружена')\n",
    "            error_index, coefficients = find_error_index(X,Y, False)\n",
    "            # print(foo(X[error_index], coefficients))\n",
    "            Y[error_index] = foo(X[error_index], coefficients)      \n",
    "        else:\n",
    "            print(f'IER = 1 - ошибки нет')\n",
    "            coefficients = find_coefficients(X, table)\n",
    "        print(f'YY = {Y}')\n",
    "        print(f'коэффициенты многочлена: {coefficients}')\n",
    "        print(f'многочлен: {coefficients[0]} + {coefficients[1]}x + {coefficients[2]}x\\u00b2 + {coefficients[3]}x\\u00b3')"
   ]
  },
  {
   "cell_type": "code",
   "execution_count": null,
   "id": "2f11de6a-99e5-412f-a633-cf6f29d6de33",
   "metadata": {},
   "outputs": [],
   "source": []
  },
  {
   "cell_type": "code",
   "execution_count": null,
   "id": "19d4ea33-9275-40ff-b51d-dcf675944912",
   "metadata": {},
   "outputs": [],
   "source": []
  }
 ],
 "metadata": {
  "kernelspec": {
   "display_name": "Python 3 (ipykernel)",
   "language": "python",
   "name": "python3"
  },
  "language_info": {
   "codemirror_mode": {
    "name": "ipython",
    "version": 3
   },
   "file_extension": ".py",
   "mimetype": "text/x-python",
   "name": "python",
   "nbconvert_exporter": "python",
   "pygments_lexer": "ipython3",
   "version": "3.11.5"
  }
 },
 "nbformat": 4,
 "nbformat_minor": 5
}
