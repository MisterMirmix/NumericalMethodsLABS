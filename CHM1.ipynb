{
 "cells": [
  {
   "cell_type": "code",
   "execution_count": 92,
   "id": "5ee494c8-eeb8-4b46-a3df-7e1990e02794",
   "metadata": {},
   "outputs": [],
   "source": [
    "import numpy as np\n",
    "import pandas as pd\n",
    "\n",
    "def read_data_from_file(file_path):\n",
    "    with open(file_path, 'r') as file:\n",
    "        # Считываем X-вектор (первая строка)\n",
    "        x_vector = list(map(float, file.readline().strip().split()))\n",
    "        \n",
    "        # Считываем Y-вектор (вторая строка)\n",
    "        y_vector = list(map(float, file.readline().strip().split()))\n",
    "        \n",
    "        # Считываем количество узлов интерполирования (третья строка)\n",
    "        n = int(file.readline().strip())\n",
    "    \n",
    "    return x_vector, y_vector, n\n"
   ]
  },
  {
   "cell_type": "code",
   "execution_count": 28,
   "id": "d2e75b90-b3cf-4b64-a472-50ba4cdebcfe",
   "metadata": {},
   "outputs": [],
   "source": [
    "# ier = -1\n",
    "\n",
    "# Проверка на неубывание вектора X\n",
    "def is_ascending_order(vector): \n",
    "    if not np.all(np.diff(vector) > 0):\n",
    "        return False\n",
    "    return True\n",
    "\n",
    "# Проверка хватит ли точек для нахождения ошибки\n",
    "def is_enough_dots(vector):\n",
    "    if len(vector) < 6:\n",
    "        return False\n",
    "    return True"
   ]
  },
  {
   "cell_type": "code",
   "execution_count": 75,
   "id": "f45a876d-290b-4dff-9c3f-41f4b5495110",
   "metadata": {
    "scrolled": true
   },
   "outputs": [],
   "source": [
    "\n",
    "def divided_differences(X, Y):\n",
    "    n = len(X)\n",
    "    # Создаем таблицу для разностных сумм\n",
    "    table = np.zeros((n, n))\n",
    "    table[:, 0] = Y  # Заполняем первый столбец значениями Y\n",
    "\n",
    "    # Вычисляем разностные суммы\n",
    "    for j in range(1, n):\n",
    "        for i in range(n - j):\n",
    "            table[i, j] = (table[i + 1, j - 1] - table[i, j - 1]) / (X[i + j] - X[i])\n",
    "\n",
    "    return table\n",
    "    \n",
    "# Создаем DataFrame для удобного отображения\n",
    "def show_divided_differences(axis, table):\n",
    "    df = pd.DataFrame(table, columns=[f'Δ^{i}' for i in range(len(axis))],index = [f'X{i+1}' for i in range(len(axis))])\n",
    "    df.insert(0, 'x', axis)\n",
    "    print(df)\n",
    "    return df"
   ]
  },
  {
   "cell_type": "code",
   "execution_count": 62,
   "id": "89cc45c1-666b-40ed-b47d-5fdf03aa7ef3",
   "metadata": {},
   "outputs": [],
   "source": [
    "#функция нахождения коэффициентов многочлена третьей степени на основе таблицы разделенных разностей \n",
    "def find_coefficients(axis, table): \n",
    "    coefficients = [0,0,0,0] \n",
    "    # f0 - значение функции в точке X0, f0=f(X0) \n",
    "    f0 = table[0][0]\n",
    "    # f01 - значение разделенной разности 1-го порядка в точках X0,X1, f01=f(X0,X1) \n",
    "    f01 = table[0][1] \n",
    "    # f012 - значение разделенной разности 2-го порядка в точках X0,X1,X2 f012=f(X0,X1,X2) \n",
    "    f012 = table[0][2]\n",
    "    # f0123 - значение разделенной разности 3-го порядка в точках X0,X1,X2,X3 f0123=f(X0,X1,X2,X3) \n",
    "    f0123 = table[0][3] \n",
    "    coefficients[0] = f0 - f01 * axis[0] + f012 * axis[0] * axis[1] - f0123 * axis[0] * axis[1] * axis[2] \n",
    "    coefficients[1] = f01 - f012 * (axis[0]+axis[1]) + f0123 * (axis[0]*axis[1]+axis[1]*axis[2]+axis[0]*axis[2])\n",
    "    coefficients[2] = f012 - f0123 * (axis[0]+axis[1]+axis[2]) \n",
    "    coefficients[3] = f0123 \n",
    "    return coefficients \n",
    "\n",
    "#значение функции в точке с данными коэффициентами \n",
    "def foo(x, coefficients): \n",
    "    return coefficients[0]+coefficients[1]*x+coefficients[2]*x*x+coefficients[3]*x*x*x \n",
    "\n",
    "def is_error_in_table(table): \n",
    "    # Проверяем первую строку последнего столбца \n",
    "    if table[0][-1] == 0:\n",
    "        return False\n",
    "    return True\n",
    "\n",
    "#Цикл проверки\n",
    "def find_error_index(X, Y, show_process = True): \n",
    "    index_to_exclude = 0 \n",
    "    while index_to_exclude < len(X): \n",
    "        # Создаем новые векторы без элемента с индексом index_to_exclude \n",
    "        new_X = np.delete(X, index_to_exclude) \n",
    "        new_Y = np.delete(Y, index_to_exclude) \n",
    "        # Строим таблицу разностных сумм \n",
    "        table = divided_differences(new_X, new_Y) \n",
    "        if(show_process):\n",
    "            print(f' x = {X[index_to_exclude]} excluded') \n",
    "            show_divided_differences(new_X, table) \n",
    "\n",
    "        if not is_error_in_table(table): \n",
    "            print(f\"Номер строки с ошибкой: {index_to_exclude+1}\") \n",
    "            return index_to_exclude, find_coefficients(new_X, table)\n",
    "            # Завершаем цикл, если условие выполнено \n",
    "        # Увеличиваем индекс для следующей итерации \n",
    "        index_to_exclude += 1 \n",
    "    "
   ]
  },
  {
   "cell_type": "code",
   "execution_count": null,
   "id": "4b24f4c6-c57e-427c-8945-918d6d526273",
   "metadata": {},
   "outputs": [],
   "source": []
  }
 ],
 "metadata": {
  "kernelspec": {
   "display_name": "Python 3 (ipykernel)",
   "language": "python",
   "name": "python3"
  },
  "language_info": {
   "codemirror_mode": {
    "name": "ipython",
    "version": 3
   },
   "file_extension": ".py",
   "mimetype": "text/x-python",
   "name": "python",
   "nbconvert_exporter": "python",
   "pygments_lexer": "ipython3",
   "version": "3.11.5"
  }
 },
 "nbformat": 4,
 "nbformat_minor": 5
}
