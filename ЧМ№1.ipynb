{
 "cells": [
  {
   "cell_type": "code",
   "execution_count": 77,
   "id": "5ee494c8-eeb8-4b46-a3df-7e1990e02794",
   "metadata": {},
   "outputs": [
    {
     "name": "stdout",
     "output_type": "stream",
     "text": [
      "X-вектор: [0, 2, 3, 5, 6, -1]\n",
      "Y-вектор: [-1, 113, 381, 1754, 3029, -16]\n",
      "Количество узлов интерполирования: 4\n"
     ]
    }
   ],
   "source": [
    "def read_data_from_file(file_path):\n",
    "    with open(file_path, 'r') as file:\n",
    "        # Считываем X-вектор (первая строка)\n",
    "        x_vector = list(map(int, file.readline().strip().split()))\n",
    "        \n",
    "        # Считываем Y-вектор (вторая строка)\n",
    "        y_vector = list(map(int, file.readline().strip().split()))\n",
    "        \n",
    "        # Считываем количество узлов интерполирования (третья строка)\n",
    "        n = int(file.readline().strip())\n",
    "    \n",
    "    return x_vector, y_vector, n\n",
    "\n",
    "# Пример использования\n",
    "file_path = 'untitled.txt'  # Замените на ваш путь к файлу\n",
    "X, Y, n = read_data_from_file(file_path)\n",
    "\n",
    "print(\"X-вектор:\", X)\n",
    "print(\"Y-вектор:\", Y)\n",
    "print(\"Количество узлов интерполирования:\", n)"
   ]
  },
  {
   "cell_type": "code",
   "execution_count": 79,
   "id": "d2e75b90-b3cf-4b64-a472-50ba4cdebcfe",
   "metadata": {},
   "outputs": [
    {
     "name": "stdout",
     "output_type": "stream",
     "text": [
      "X: [0, 2, 3, 5, 6, -1]\n",
      "Y: [-1, 113, 381, 1754, 3029, -16]\n",
      "ier: 3\n"
     ]
    }
   ],
   "source": [
    "ier = -1\n",
    "\n",
    "# Проверка на неубывание вектора X\n",
    "if not np.all(np.diff(X) <= 0):\n",
    "    ier = 3\n",
    "\n",
    "# Проверка на совпадение размеров векторов X и Y\n",
    "if len(X) != len(Y):\n",
    "    ier = 2\n",
    "\n",
    "# Если ier равен 3, сортируем X и переставляем элементы в Y\n",
    "#if ier == 3:\n",
    "    #sorted_indices = np.argsort(X)\n",
    "   # X = X[sorted_indices]\n",
    "   # Y = Y[sorted_indices]\n",
    "\n",
    "print(\"X:\", X)\n",
    "print(\"Y:\", Y)\n",
    "print(\"ier:\", ier)"
   ]
  },
  {
   "cell_type": "code",
   "execution_count": 85,
   "id": "f45a876d-290b-4dff-9c3f-41f4b5495110",
   "metadata": {},
   "outputs": [
    {
     "name": "stdout",
     "output_type": "stream",
     "text": [
      "       Δ^0     Δ^1         Δ^2        Δ^3       Δ^4       Δ^5\n",
      "X1    -1.0    57.0   70.333333  13.833333  0.055556  0.013889\n",
      "X2   113.0   268.0  139.500000  14.166667  0.041667  0.000000\n",
      "X3   381.0   686.5  196.166667  14.041667  0.000000  0.000000\n",
      "X4  1754.0  1275.0  140.000000   0.000000  0.000000  0.000000\n",
      "X5  3029.0   435.0    0.000000   0.000000  0.000000  0.000000\n",
      "X6   -16.0     0.0    0.000000   0.000000  0.000000  0.000000\n"
     ]
    }
   ],
   "source": [
    "import numpy as np\n",
    "import pandas as pd\n",
    "\n",
    "def divided_differences(X, Y):\n",
    "    n = len(X)\n",
    "    # Создаем таблицу для разностных сумм\n",
    "    table = np.zeros((n, n))\n",
    "    table[:, 0] = Y  # Заполняем первый столбец значениями Y\n",
    "\n",
    "    # Вычисляем разностные суммы\n",
    "    for j in range(1, n):\n",
    "        for i in range(n - j):\n",
    "            table[i, j] = (table[i + 1, j - 1] - table[i, j - 1]) / (X[i + j] - X[i])\n",
    "\n",
    "    return table\n",
    "\n",
    "# Вычисляем разностные суммы\n",
    "table = divided_differences(X, Y)\n",
    "\n",
    "# Создаем DataFrame для удобного отображения\n",
    "df = pd.DataFrame(table, columns=[f'Δ^{i}' for i in range(len(X))])\n",
    "df.index = [f'X{i+1}' for i in range(len(X))]\n",
    "print(df)\n"
   ]
  },
  {
   "cell_type": "code",
   "execution_count": 87,
   "id": "fa1fe9e4-dd1d-4713-882d-28faddc4122b",
   "metadata": {},
   "outputs": [
    {
     "name": "stdout",
     "output_type": "stream",
     "text": [
      "ier = 0\n",
      "Номер строки с ошибкой: 3\n",
      "Цикл завершен. ier = 1\n"
     ]
    }
   ],
   "source": [
    "# Проверяем значение в последнем столбце первой строки\n",
    "if table[0][-1] == 0:\n",
    "    ier = 1  # Если значение равно 0\n",
    "else:\n",
    "    ier = 0  # Если значение не равно 0\n",
    "\n",
    "print(\"ier =\", ier)\n",
    "# Индекс элемента, который будем исключать\n",
    "index_to_exclude = 0\n",
    "# Функция для вычисления разностных сумм\n",
    "def divided_differences(X, Y):\n",
    "    n = len(Y)\n",
    "    table = np.zeros((n, n))\n",
    "    table[:, 0] = Y\n",
    "\n",
    "    for j in range(1, n):\n",
    "        for i in range(n - j):\n",
    "            table[i][j] = (table[i + 1][j - 1] - table[i][j - 1]) / (X[i + j] - X[i])\n",
    "    \n",
    "    return table\n",
    "\n",
    "# Цикл проверки\n",
    "while ier == 0 and index_to_exclude < len(X):\n",
    "    # Создаем новые векторы без элемента с индексом index_to_exclude\n",
    "    new_X = np.delete(X, index_to_exclude)\n",
    "    new_Y = np.delete(Y, index_to_exclude)\n",
    "    # Строим таблицу разностных сумм\n",
    "    table = divided_differences(new_X, new_Y)\n",
    "    # Проверяем первую строку последнего столбца\n",
    "    if table[0][-1] == 0:\n",
    "        print(f\"Номер строки с ошибкой: {index_to_exclude+1}\")\n",
    "        ier = 1  # Завершаем цикл, если условие выполнено\n",
    "    # Увеличиваем индекс для следующей итерации\n",
    "    index_to_exclude += 1\n"
   ]
  },
  {
   "cell_type": "code",
   "execution_count": null,
   "id": "89cc45c1-666b-40ed-b47d-5fdf03aa7ef3",
   "metadata": {},
   "outputs": [],
   "source": []
  },
  {
   "cell_type": "code",
   "execution_count": null,
   "id": "4b24f4c6-c57e-427c-8945-918d6d526273",
   "metadata": {},
   "outputs": [],
   "source": []
  }
 ],
 "metadata": {
  "kernelspec": {
   "display_name": "Python 3 (ipykernel)",
   "language": "python",
   "name": "python3"
  },
  "language_info": {
   "codemirror_mode": {
    "name": "ipython",
    "version": 3
   },
   "file_extension": ".py",
   "mimetype": "text/x-python",
   "name": "python",
   "nbconvert_exporter": "python",
   "pygments_lexer": "ipython3",
   "version": "3.12.4"
  }
 },
 "nbformat": 4,
 "nbformat_minor": 5
}
